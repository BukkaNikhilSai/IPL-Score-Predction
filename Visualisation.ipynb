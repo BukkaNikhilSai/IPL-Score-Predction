{
 "cells": [
  {
   "cell_type": "code",
   "execution_count": 1,
   "metadata": {},
   "outputs": [],
   "source": [
    "import json\n",
    "import re\n",
    "import matplotlib\n",
    "matplotlib.use('Agg')\n",
    "from matplotlib import pyplot\n",
    "from sklearn.model_selection import GridSearchCV\n",
    "from sklearn.model_selection import StratifiedKFold\n",
    "import string\n",
    "import nltk\n",
    "import numpy as np \n",
    "import pandas as pd\n",
    "import xgboost as xgb\n",
    "%matplotlib inline\n",
    "from textblob import Word\n",
    "from math import sqrt\n",
    "from functools import reduce\n",
    "from textblob import TextBlob\n",
    "import matplotlib.pyplot as plt\n",
    "import matplotlib.image as mpimg\n",
    "from sklearn import preprocessing\n",
    "from nltk.corpus import stopwords\n",
    "import matplotlib.path as mplPath\n",
    "from sklearn.metrics import log_loss\n",
    "import xgboost as xgb\n",
    "from sklearn.preprocessing import LabelEncoder\n",
    "from sklearn.ensemble import RandomForestClassifier\n",
    "from sklearn.model_selection import train_test_split\n",
    "from sklearn.feature_extraction.text import TfidfVectorizer\n",
    "from nltk.stem import PorterStemmer\n",
    "from sklearn.feature_extraction import DictVectorizer\n",
    "from sklearn.ensemble import RandomForestClassifier\n",
    "from sklearn.datasets import make_classification\n",
    "from sklearn import utils\n",
    "from sklearn.metrics import accuracy_score\n",
    "import collections \n",
    "from nltk import word_tokenize, pos_tag  \n",
    "from scipy.sparse import hstack"
   ]
  },
  {
   "cell_type": "code",
   "execution_count": 2,
   "metadata": {},
   "outputs": [],
   "source": [
    "player=pd.read_csv(\"Player.csv\",encoding=\"ISO-8859-1\")\n",
    "match=pd.read_csv(\"Match.csv\",encoding=\"ISO-8859-1\")\n",
    "team=pd.read_csv(\"Team.csv\",encoding=\"ISO-8859-1\")\n",
    "ball_by_ball=pd.read_csv(\"Ball_By_Ball.csv\",encoding=\"ISO-8859-1\")\n",
    "palayer_match=pd.read_csv(\"Player_match.csv\",encoding=\"ISO-8859-1\")"
   ]
  },
  {
   "cell_type": "code",
   "execution_count": 3,
   "metadata": {},
   "outputs": [],
   "source": [
    "ball_by_ball.MatcH_id.value_counts()\n",
    "ball_by_ball.Striker_Batting_Position.fillna(4,inplace=True)"
   ]
  },
  {
   "cell_type": "code",
   "execution_count": 4,
   "metadata": {},
   "outputs": [
    {
     "name": "stdout",
     "output_type": "stream",
     "text": [
      "<class 'pandas.core.frame.DataFrame'>\n",
      "RangeIndex: 150451 entries, 0 to 150450\n",
      "Data columns (total 48 columns):\n",
      "MatcH_id                    150451 non-null int64\n",
      "Over_id                     150451 non-null int64\n",
      "Ball_id                     150451 non-null int64\n",
      "Innings_No                  150451 non-null int64\n",
      "Team_Batting                150451 non-null object\n",
      "Team_Bowling                150451 non-null object\n",
      "Striker_Batting_Position    150451 non-null float64\n",
      "Extra_Type                  150451 non-null object\n",
      "Runs_Scored                 150451 non-null int64\n",
      "Extra_runs                  150451 non-null int64\n",
      "Wides                       150451 non-null int64\n",
      "Legbyes                     150451 non-null int64\n",
      "Byes                        150451 non-null int64\n",
      "Noballs                     150451 non-null int64\n",
      "Penalty                     150451 non-null int64\n",
      "Bowler_Extras               150451 non-null int64\n",
      "Out_type                    150451 non-null object\n",
      "Caught                      150451 non-null int64\n",
      "Bowled                      150451 non-null int64\n",
      "Run_out                     150451 non-null int64\n",
      "LBW                         150451 non-null int64\n",
      "Retired_hurt                150451 non-null int64\n",
      "Stumped                     150451 non-null int64\n",
      "caught_and_bowled           150451 non-null int64\n",
      "hit_wicket                  150451 non-null int64\n",
      "ObstructingFeild            150451 non-null int64\n",
      "Bowler_Wicket               150451 non-null int64\n",
      "Match_Date                  150451 non-null object\n",
      "Season                      150451 non-null int64\n",
      "Striker                     150451 non-null int64\n",
      "Non_Striker                 150451 non-null int64\n",
      "Bowler                      150451 non-null int64\n",
      "Player_Out                  7438 non-null float64\n",
      "Fielders                    5351 non-null float64\n",
      "Striker_match_SK            150451 non-null int64\n",
      "StrikerSK                   150451 non-null int64\n",
      "NonStriker_match_SK         150451 non-null int64\n",
      "NONStriker_SK               150451 non-null int64\n",
      "Fielder_match_SK            150451 non-null int64\n",
      "Fielder_SK                  150451 non-null int64\n",
      "Bowler_match_SK             150451 non-null int64\n",
      "BOWLER_SK                   150451 non-null int64\n",
      "PlayerOut_match_SK          150451 non-null int64\n",
      "BattingTeam_SK              150451 non-null int64\n",
      "BowlingTeam_SK              150451 non-null int64\n",
      "Keeper_Catch                150451 non-null int64\n",
      "Player_out_sk               150451 non-null int64\n",
      "MatchDateSK                 150451 non-null int64\n",
      "dtypes: float64(3), int64(40), object(5)\n",
      "memory usage: 55.1+ MB\n"
     ]
    }
   ],
   "source": [
    "ball_by_ball.info()"
   ]
  },
  {
   "cell_type": "code",
   "execution_count": 5,
   "metadata": {},
   "outputs": [],
   "source": [
    "ball_by_ball.Player_Out.fillna(value=0, inplace=True)"
   ]
  },
  {
   "cell_type": "code",
   "execution_count": 6,
   "metadata": {},
   "outputs": [],
   "source": [
    "# ball_by_ball.Player_Out"
   ]
  },
  {
   "cell_type": "code",
   "execution_count": 7,
   "metadata": {},
   "outputs": [],
   "source": [
    "features=[\"MatcH_id\",\"Over_id\",\"Innings_No\",\"Runs_Scored\",\"Extra_runs\"]"
   ]
  },
  {
   "cell_type": "code",
   "execution_count": 8,
   "metadata": {},
   "outputs": [],
   "source": [
    "data=ball_by_ball[features]"
   ]
  },
  {
   "cell_type": "code",
   "execution_count": 9,
   "metadata": {},
   "outputs": [
    {
     "name": "stderr",
     "output_type": "stream",
     "text": [
      "/usr/local/lib/python3.5/dist-packages/ipykernel_launcher.py:1: SettingWithCopyWarning: \n",
      "A value is trying to be set on a copy of a slice from a DataFrame.\n",
      "Try using .loc[row_indexer,col_indexer] = value instead\n",
      "\n",
      "See the caveats in the documentation: http://pandas.pydata.org/pandas-docs/stable/indexing.html#indexing-view-versus-copy\n",
      "  \"\"\"Entry point for launching an IPython kernel.\n"
     ]
    },
    {
     "data": {
      "text/html": [
       "<div>\n",
       "<style scoped>\n",
       "    .dataframe tbody tr th:only-of-type {\n",
       "        vertical-align: middle;\n",
       "    }\n",
       "\n",
       "    .dataframe tbody tr th {\n",
       "        vertical-align: top;\n",
       "    }\n",
       "\n",
       "    .dataframe thead th {\n",
       "        text-align: right;\n",
       "    }\n",
       "</style>\n",
       "<table border=\"1\" class=\"dataframe\">\n",
       "  <thead>\n",
       "    <tr style=\"text-align: right;\">\n",
       "      <th></th>\n",
       "      <th>Runs_Scored</th>\n",
       "      <th>Extra_runs</th>\n",
       "    </tr>\n",
       "    <tr>\n",
       "      <th>id</th>\n",
       "      <th></th>\n",
       "      <th></th>\n",
       "    </tr>\n",
       "  </thead>\n",
       "  <tbody>\n",
       "    <tr>\n",
       "      <th>1082591,1,1</th>\n",
       "      <td>4</td>\n",
       "      <td>3</td>\n",
       "    </tr>\n",
       "    <tr>\n",
       "      <th>1082591,1,10</th>\n",
       "      <td>4</td>\n",
       "      <td>0</td>\n",
       "    </tr>\n",
       "    <tr>\n",
       "      <th>1082591,1,11</th>\n",
       "      <td>10</td>\n",
       "      <td>0</td>\n",
       "    </tr>\n",
       "    <tr>\n",
       "      <th>1082591,1,12</th>\n",
       "      <td>8</td>\n",
       "      <td>0</td>\n",
       "    </tr>\n",
       "    <tr>\n",
       "      <th>1082591,1,13</th>\n",
       "      <td>17</td>\n",
       "      <td>1</td>\n",
       "    </tr>\n",
       "    <tr>\n",
       "      <th>1082591,1,14</th>\n",
       "      <td>8</td>\n",
       "      <td>0</td>\n",
       "    </tr>\n",
       "    <tr>\n",
       "      <th>1082591,1,15</th>\n",
       "      <td>19</td>\n",
       "      <td>0</td>\n",
       "    </tr>\n",
       "    <tr>\n",
       "      <th>1082591,1,16</th>\n",
       "      <td>4</td>\n",
       "      <td>0</td>\n",
       "    </tr>\n",
       "    <tr>\n",
       "      <th>1082591,1,17</th>\n",
       "      <td>7</td>\n",
       "      <td>0</td>\n",
       "    </tr>\n",
       "    <tr>\n",
       "      <th>1082591,1,18</th>\n",
       "      <td>15</td>\n",
       "      <td>2</td>\n",
       "    </tr>\n",
       "    <tr>\n",
       "      <th>1082591,1,19</th>\n",
       "      <td>12</td>\n",
       "      <td>0</td>\n",
       "    </tr>\n",
       "    <tr>\n",
       "      <th>1082591,1,2</th>\n",
       "      <td>15</td>\n",
       "      <td>1</td>\n",
       "    </tr>\n",
       "    <tr>\n",
       "      <th>1082591,1,20</th>\n",
       "      <td>16</td>\n",
       "      <td>0</td>\n",
       "    </tr>\n",
       "    <tr>\n",
       "      <th>1082591,1,3</th>\n",
       "      <td>6</td>\n",
       "      <td>0</td>\n",
       "    </tr>\n",
       "    <tr>\n",
       "      <th>1082591,1,4</th>\n",
       "      <td>4</td>\n",
       "      <td>0</td>\n",
       "    </tr>\n",
       "    <tr>\n",
       "      <th>1082591,1,5</th>\n",
       "      <td>9</td>\n",
       "      <td>0</td>\n",
       "    </tr>\n",
       "    <tr>\n",
       "      <th>1082591,1,6</th>\n",
       "      <td>17</td>\n",
       "      <td>0</td>\n",
       "    </tr>\n",
       "    <tr>\n",
       "      <th>1082591,1,7</th>\n",
       "      <td>5</td>\n",
       "      <td>0</td>\n",
       "    </tr>\n",
       "    <tr>\n",
       "      <th>1082591,1,8</th>\n",
       "      <td>11</td>\n",
       "      <td>0</td>\n",
       "    </tr>\n",
       "    <tr>\n",
       "      <th>1082591,1,9</th>\n",
       "      <td>9</td>\n",
       "      <td>0</td>\n",
       "    </tr>\n",
       "    <tr>\n",
       "      <th>1082591,2,1</th>\n",
       "      <td>11</td>\n",
       "      <td>0</td>\n",
       "    </tr>\n",
       "    <tr>\n",
       "      <th>1082591,2,10</th>\n",
       "      <td>12</td>\n",
       "      <td>1</td>\n",
       "    </tr>\n",
       "    <tr>\n",
       "      <th>1082591,2,11</th>\n",
       "      <td>12</td>\n",
       "      <td>1</td>\n",
       "    </tr>\n",
       "    <tr>\n",
       "      <th>1082591,2,12</th>\n",
       "      <td>7</td>\n",
       "      <td>0</td>\n",
       "    </tr>\n",
       "    <tr>\n",
       "      <th>1082591,2,13</th>\n",
       "      <td>8</td>\n",
       "      <td>0</td>\n",
       "    </tr>\n",
       "    <tr>\n",
       "      <th>1082591,2,14</th>\n",
       "      <td>4</td>\n",
       "      <td>0</td>\n",
       "    </tr>\n",
       "    <tr>\n",
       "      <th>1082591,2,15</th>\n",
       "      <td>9</td>\n",
       "      <td>0</td>\n",
       "    </tr>\n",
       "    <tr>\n",
       "      <th>1082591,2,16</th>\n",
       "      <td>12</td>\n",
       "      <td>0</td>\n",
       "    </tr>\n",
       "    <tr>\n",
       "      <th>1082591,2,17</th>\n",
       "      <td>3</td>\n",
       "      <td>0</td>\n",
       "    </tr>\n",
       "    <tr>\n",
       "      <th>1082591,2,18</th>\n",
       "      <td>2</td>\n",
       "      <td>0</td>\n",
       "    </tr>\n",
       "    <tr>\n",
       "      <th>...</th>\n",
       "      <td>...</td>\n",
       "      <td>...</td>\n",
       "    </tr>\n",
       "    <tr>\n",
       "      <th>981024,1,19</th>\n",
       "      <td>11</td>\n",
       "      <td>5</td>\n",
       "    </tr>\n",
       "    <tr>\n",
       "      <th>981024,1,2</th>\n",
       "      <td>3</td>\n",
       "      <td>2</td>\n",
       "    </tr>\n",
       "    <tr>\n",
       "      <th>981024,1,20</th>\n",
       "      <td>24</td>\n",
       "      <td>0</td>\n",
       "    </tr>\n",
       "    <tr>\n",
       "      <th>981024,1,3</th>\n",
       "      <td>9</td>\n",
       "      <td>0</td>\n",
       "    </tr>\n",
       "    <tr>\n",
       "      <th>981024,1,4</th>\n",
       "      <td>6</td>\n",
       "      <td>0</td>\n",
       "    </tr>\n",
       "    <tr>\n",
       "      <th>981024,1,5</th>\n",
       "      <td>19</td>\n",
       "      <td>0</td>\n",
       "    </tr>\n",
       "    <tr>\n",
       "      <th>981024,1,6</th>\n",
       "      <td>12</td>\n",
       "      <td>1</td>\n",
       "    </tr>\n",
       "    <tr>\n",
       "      <th>981024,1,7</th>\n",
       "      <td>6</td>\n",
       "      <td>0</td>\n",
       "    </tr>\n",
       "    <tr>\n",
       "      <th>981024,1,8</th>\n",
       "      <td>10</td>\n",
       "      <td>0</td>\n",
       "    </tr>\n",
       "    <tr>\n",
       "      <th>981024,1,9</th>\n",
       "      <td>12</td>\n",
       "      <td>1</td>\n",
       "    </tr>\n",
       "    <tr>\n",
       "      <th>981024,2,1</th>\n",
       "      <td>4</td>\n",
       "      <td>1</td>\n",
       "    </tr>\n",
       "    <tr>\n",
       "      <th>981024,2,10</th>\n",
       "      <td>12</td>\n",
       "      <td>0</td>\n",
       "    </tr>\n",
       "    <tr>\n",
       "      <th>981024,2,11</th>\n",
       "      <td>8</td>\n",
       "      <td>0</td>\n",
       "    </tr>\n",
       "    <tr>\n",
       "      <th>981024,2,12</th>\n",
       "      <td>9</td>\n",
       "      <td>0</td>\n",
       "    </tr>\n",
       "    <tr>\n",
       "      <th>981024,2,13</th>\n",
       "      <td>12</td>\n",
       "      <td>0</td>\n",
       "    </tr>\n",
       "    <tr>\n",
       "      <th>981024,2,14</th>\n",
       "      <td>8</td>\n",
       "      <td>0</td>\n",
       "    </tr>\n",
       "    <tr>\n",
       "      <th>981024,2,15</th>\n",
       "      <td>9</td>\n",
       "      <td>0</td>\n",
       "    </tr>\n",
       "    <tr>\n",
       "      <th>981024,2,16</th>\n",
       "      <td>4</td>\n",
       "      <td>0</td>\n",
       "    </tr>\n",
       "    <tr>\n",
       "      <th>981024,2,17</th>\n",
       "      <td>10</td>\n",
       "      <td>0</td>\n",
       "    </tr>\n",
       "    <tr>\n",
       "      <th>981024,2,18</th>\n",
       "      <td>6</td>\n",
       "      <td>1</td>\n",
       "    </tr>\n",
       "    <tr>\n",
       "      <th>981024,2,19</th>\n",
       "      <td>11</td>\n",
       "      <td>1</td>\n",
       "    </tr>\n",
       "    <tr>\n",
       "      <th>981024,2,2</th>\n",
       "      <td>11</td>\n",
       "      <td>2</td>\n",
       "    </tr>\n",
       "    <tr>\n",
       "      <th>981024,2,20</th>\n",
       "      <td>8</td>\n",
       "      <td>1</td>\n",
       "    </tr>\n",
       "    <tr>\n",
       "      <th>981024,2,3</th>\n",
       "      <td>6</td>\n",
       "      <td>2</td>\n",
       "    </tr>\n",
       "    <tr>\n",
       "      <th>981024,2,4</th>\n",
       "      <td>16</td>\n",
       "      <td>0</td>\n",
       "    </tr>\n",
       "    <tr>\n",
       "      <th>981024,2,5</th>\n",
       "      <td>13</td>\n",
       "      <td>0</td>\n",
       "    </tr>\n",
       "    <tr>\n",
       "      <th>981024,2,6</th>\n",
       "      <td>4</td>\n",
       "      <td>0</td>\n",
       "    </tr>\n",
       "    <tr>\n",
       "      <th>981024,2,7</th>\n",
       "      <td>10</td>\n",
       "      <td>0</td>\n",
       "    </tr>\n",
       "    <tr>\n",
       "      <th>981024,2,8</th>\n",
       "      <td>9</td>\n",
       "      <td>1</td>\n",
       "    </tr>\n",
       "    <tr>\n",
       "      <th>981024,2,9</th>\n",
       "      <td>21</td>\n",
       "      <td>0</td>\n",
       "    </tr>\n",
       "  </tbody>\n",
       "</table>\n",
       "<p>24388 rows × 2 columns</p>\n",
       "</div>"
      ],
      "text/plain": [
       "              Runs_Scored  Extra_runs\n",
       "id                                   \n",
       "1082591,1,1             4           3\n",
       "1082591,1,10            4           0\n",
       "1082591,1,11           10           0\n",
       "1082591,1,12            8           0\n",
       "1082591,1,13           17           1\n",
       "1082591,1,14            8           0\n",
       "1082591,1,15           19           0\n",
       "1082591,1,16            4           0\n",
       "1082591,1,17            7           0\n",
       "1082591,1,18           15           2\n",
       "1082591,1,19           12           0\n",
       "1082591,1,2            15           1\n",
       "1082591,1,20           16           0\n",
       "1082591,1,3             6           0\n",
       "1082591,1,4             4           0\n",
       "1082591,1,5             9           0\n",
       "1082591,1,6            17           0\n",
       "1082591,1,7             5           0\n",
       "1082591,1,8            11           0\n",
       "1082591,1,9             9           0\n",
       "1082591,2,1            11           0\n",
       "1082591,2,10           12           1\n",
       "1082591,2,11           12           1\n",
       "1082591,2,12            7           0\n",
       "1082591,2,13            8           0\n",
       "1082591,2,14            4           0\n",
       "1082591,2,15            9           0\n",
       "1082591,2,16           12           0\n",
       "1082591,2,17            3           0\n",
       "1082591,2,18            2           0\n",
       "...                   ...         ...\n",
       "981024,1,19            11           5\n",
       "981024,1,2              3           2\n",
       "981024,1,20            24           0\n",
       "981024,1,3              9           0\n",
       "981024,1,4              6           0\n",
       "981024,1,5             19           0\n",
       "981024,1,6             12           1\n",
       "981024,1,7              6           0\n",
       "981024,1,8             10           0\n",
       "981024,1,9             12           1\n",
       "981024,2,1              4           1\n",
       "981024,2,10            12           0\n",
       "981024,2,11             8           0\n",
       "981024,2,12             9           0\n",
       "981024,2,13            12           0\n",
       "981024,2,14             8           0\n",
       "981024,2,15             9           0\n",
       "981024,2,16             4           0\n",
       "981024,2,17            10           0\n",
       "981024,2,18             6           1\n",
       "981024,2,19            11           1\n",
       "981024,2,2             11           2\n",
       "981024,2,20             8           1\n",
       "981024,2,3              6           2\n",
       "981024,2,4             16           0\n",
       "981024,2,5             13           0\n",
       "981024,2,6              4           0\n",
       "981024,2,7             10           0\n",
       "981024,2,8              9           1\n",
       "981024,2,9             21           0\n",
       "\n",
       "[24388 rows x 2 columns]"
      ]
     },
     "execution_count": 9,
     "metadata": {},
     "output_type": "execute_result"
    }
   ],
   "source": [
    "data['id'] = data['MatcH_id'].apply(str)+\",\"+data['Innings_No'].apply(str)+\",\"+data['Over_id'].apply(str)\n",
    "data = pd.DataFrame(data[['id','Runs_Scored',\"Extra_runs\"]].groupby('id').sum())\n",
    "data"
   ]
  },
  {
   "cell_type": "code",
   "execution_count": 10,
   "metadata": {},
   "outputs": [],
   "source": [
    "def bowler(x):\n",
    "    ok=x.split(\",\")\n",
    "    a= ball_by_ball.loc[(ball_by_ball.MatcH_id==int(ok[0]))&(ball_by_ball.Innings_No==int(ok[1]))&(ball_by_ball.Over_id==int(ok[2])),'Bowler']\n",
    "    return(a[a.index[0]])"
   ]
  },
  {
   "cell_type": "code",
   "execution_count": 11,
   "metadata": {},
   "outputs": [],
   "source": [
    "data['id'] = data.index\n",
    "data[\"Bowler\"]=data.id.apply(lambda x:bowler(x))\n",
    "# str(ball_by_ball.MatcH_id)=='981024'"
   ]
  },
  {
   "cell_type": "code",
   "execution_count": 12,
   "metadata": {},
   "outputs": [],
   "source": [
    "# ball_by_ball.Striker.value_counts()"
   ]
  },
  {
   "cell_type": "code",
   "execution_count": 13,
   "metadata": {},
   "outputs": [],
   "source": [
    "def striker(x):\n",
    "    ok=x.split(\",\")\n",
    "    a= ball_by_ball.loc[(ball_by_ball.MatcH_id==int(ok[0]))&(ball_by_ball.Innings_No==int(ok[1]))&(ball_by_ball.Over_id==int(ok[2])),'Striker']\n",
    "    return(a[a.index[0]])"
   ]
  },
  {
   "cell_type": "code",
   "execution_count": 14,
   "metadata": {},
   "outputs": [],
   "source": [
    "data['id'] = data.index\n",
    "data[\"Striker\"]=data.id.apply(lambda x:striker(x))\n",
    "# str(ball_by_ball.MatcH_id)=='981024'"
   ]
  },
  {
   "cell_type": "code",
   "execution_count": 15,
   "metadata": {},
   "outputs": [],
   "source": [
    "def Striker_Batting_Position(x):\n",
    "    ok=x.split(\",\")\n",
    "    a=ball_by_ball.loc[(ball_by_ball.MatcH_id==int(ok[0]))&(ball_by_ball.Innings_No==int(ok[1]))&(ball_by_ball.Over_id==int(ok[2])),'Striker_Batting_Position']\n",
    "#     print(int(ok[2]))\n",
    "    return(a[a.index[0]])"
   ]
  },
  {
   "cell_type": "code",
   "execution_count": 16,
   "metadata": {},
   "outputs": [],
   "source": [
    "data[\"strike_position\"]=data.id.apply(lambda x:Striker_Batting_Position(x))"
   ]
  },
  {
   "cell_type": "code",
   "execution_count": 17,
   "metadata": {},
   "outputs": [
    {
     "data": {
      "text/plain": [
       "0         598028\n",
       "1         598028\n",
       "2         598028\n",
       "3         598028\n",
       "4         598028\n",
       "5         598028\n",
       "6         598028\n",
       "7         598028\n",
       "8         598028\n",
       "9         598028\n",
       "10        598028\n",
       "11        598028\n",
       "12        598028\n",
       "13        598028\n",
       "14        598028\n",
       "15        598028\n",
       "16        598028\n",
       "17        598028\n",
       "18        598028\n",
       "19        598028\n",
       "20        598028\n",
       "21        598028\n",
       "22        598028\n",
       "23        598028\n",
       "24        598028\n",
       "25        598028\n",
       "26        598028\n",
       "27        598028\n",
       "28        598028\n",
       "29        598028\n",
       "           ...  \n",
       "150421    598028\n",
       "150422    598028\n",
       "150423    598028\n",
       "150424    598028\n",
       "150425    598028\n",
       "150426    598028\n",
       "150427    598028\n",
       "150428    598028\n",
       "150429    598028\n",
       "150430    598028\n",
       "150431    598028\n",
       "150432    598028\n",
       "150433    598028\n",
       "150434    598028\n",
       "150435    598028\n",
       "150436    598028\n",
       "150437    598028\n",
       "150438    598028\n",
       "150439    598028\n",
       "150440    598028\n",
       "150441    598028\n",
       "150442    598028\n",
       "150443    598028\n",
       "150444    598028\n",
       "150445    598028\n",
       "150446    598028\n",
       "150447    598028\n",
       "150448    598028\n",
       "150449    598028\n",
       "150450    598028\n",
       "Name: MatcH_id, Length: 150451, dtype: int64"
      ]
     },
     "execution_count": 17,
     "metadata": {},
     "output_type": "execute_result"
    }
   ],
   "source": [
    "# a=ball_by_ball.loc[ball_by_ball.Innings_No==2,'Striker_Batting_Position']\n",
    "# print(a)\n",
    "ball_by_ball.MatcH_id"
   ]
  },
  {
   "cell_type": "code",
   "execution_count": 18,
   "metadata": {},
   "outputs": [
    {
     "data": {
      "text/plain": [
       "0"
      ]
     },
     "execution_count": 18,
     "metadata": {},
     "output_type": "execute_result"
    }
   ],
   "source": [
    "# a=ball_by_ball.Striker_Batting_Position\n",
    "ball_by_ball.Striker_Batting_Position.isnull().sum()"
   ]
  },
  {
   "cell_type": "code",
   "execution_count": 19,
   "metadata": {},
   "outputs": [
    {
     "data": {
      "text/html": [
       "<div>\n",
       "<style scoped>\n",
       "    .dataframe tbody tr th:only-of-type {\n",
       "        vertical-align: middle;\n",
       "    }\n",
       "\n",
       "    .dataframe tbody tr th {\n",
       "        vertical-align: top;\n",
       "    }\n",
       "\n",
       "    .dataframe thead th {\n",
       "        text-align: right;\n",
       "    }\n",
       "</style>\n",
       "<table border=\"1\" class=\"dataframe\">\n",
       "  <thead>\n",
       "    <tr style=\"text-align: right;\">\n",
       "      <th></th>\n",
       "      <th>PLAYER_SK</th>\n",
       "      <th>Player_Id</th>\n",
       "      <th>Player_Name</th>\n",
       "      <th>DOB</th>\n",
       "      <th>Batting_hand</th>\n",
       "      <th>Bowling_skill</th>\n",
       "      <th>Country_Name</th>\n",
       "    </tr>\n",
       "  </thead>\n",
       "  <tbody>\n",
       "    <tr>\n",
       "      <th>0</th>\n",
       "      <td>0</td>\n",
       "      <td>1</td>\n",
       "      <td>SC Ganguly</td>\n",
       "      <td>7/8/1972</td>\n",
       "      <td>Left-hand bat</td>\n",
       "      <td>Right-arm medium</td>\n",
       "      <td>India</td>\n",
       "    </tr>\n",
       "    <tr>\n",
       "      <th>1</th>\n",
       "      <td>1</td>\n",
       "      <td>2</td>\n",
       "      <td>BB McCullum</td>\n",
       "      <td>9/27/1981</td>\n",
       "      <td>Right-hand bat</td>\n",
       "      <td>Right-arm medium</td>\n",
       "      <td>New Zealand</td>\n",
       "    </tr>\n",
       "    <tr>\n",
       "      <th>2</th>\n",
       "      <td>2</td>\n",
       "      <td>3</td>\n",
       "      <td>RT Ponting</td>\n",
       "      <td>12/19/1974</td>\n",
       "      <td>Right-hand bat</td>\n",
       "      <td>Right-arm medium</td>\n",
       "      <td>Australia</td>\n",
       "    </tr>\n",
       "    <tr>\n",
       "      <th>3</th>\n",
       "      <td>3</td>\n",
       "      <td>4</td>\n",
       "      <td>DJ Hussey</td>\n",
       "      <td>7/15/1977</td>\n",
       "      <td>Right-hand bat</td>\n",
       "      <td>Right-arm offbreak</td>\n",
       "      <td>Australia</td>\n",
       "    </tr>\n",
       "    <tr>\n",
       "      <th>4</th>\n",
       "      <td>4</td>\n",
       "      <td>5</td>\n",
       "      <td>Mohammad Hafeez</td>\n",
       "      <td>10/17/1980</td>\n",
       "      <td>Right-hand bat</td>\n",
       "      <td>Right-arm offbreak</td>\n",
       "      <td>Pakistan</td>\n",
       "    </tr>\n",
       "  </tbody>\n",
       "</table>\n",
       "</div>"
      ],
      "text/plain": [
       "   PLAYER_SK  Player_Id      Player_Name         DOB    Batting_hand  \\\n",
       "0          0          1       SC Ganguly    7/8/1972   Left-hand bat   \n",
       "1          1          2      BB McCullum   9/27/1981  Right-hand bat   \n",
       "2          2          3       RT Ponting  12/19/1974  Right-hand bat   \n",
       "3          3          4        DJ Hussey   7/15/1977  Right-hand bat   \n",
       "4          4          5  Mohammad Hafeez  10/17/1980  Right-hand bat   \n",
       "\n",
       "        Bowling_skill Country_Name  \n",
       "0    Right-arm medium        India  \n",
       "1    Right-arm medium  New Zealand  \n",
       "2    Right-arm medium    Australia  \n",
       "3  Right-arm offbreak    Australia  \n",
       "4  Right-arm offbreak     Pakistan  "
      ]
     },
     "execution_count": 19,
     "metadata": {},
     "output_type": "execute_result"
    }
   ],
   "source": [
    "player.head()"
   ]
  },
  {
   "cell_type": "code",
   "execution_count": null,
   "metadata": {},
   "outputs": [],
   "source": []
  },
  {
   "cell_type": "code",
   "execution_count": null,
   "metadata": {},
   "outputs": [],
   "source": []
  },
  {
   "cell_type": "code",
   "execution_count": 20,
   "metadata": {},
   "outputs": [],
   "source": [
    "def PlayerOut(x):\n",
    "    ok=x.split(\",\")\n",
    "    mid= int(ok[0])\n",
    "    iid=int(ok[1])\n",
    "    oid=int(ok[2])\n",
    "    if(oid==1):\n",
    "        return 0\n",
    "    else:\n",
    "        a=ball_by_ball.loc[(ball_by_ball.MatcH_id==mid)&(ball_by_ball.Innings_No==iid)&(ball_by_ball.Over_id==oid-1),'Player_Out']\n",
    "        count=0\n",
    "        for i in a:\n",
    "            if(i!=0):\n",
    "                count+=1\n",
    "        return(count)"
   ]
  },
  {
   "cell_type": "code",
   "execution_count": 21,
   "metadata": {},
   "outputs": [],
   "source": [
    "data[\"playerout\"]=data.id.apply(lambda x:PlayerOut(x))"
   ]
  },
  {
   "cell_type": "code",
   "execution_count": 22,
   "metadata": {},
   "outputs": [],
   "source": [
    "def MatchDateSK(x):\n",
    "    ok=x.split(\",\")\n",
    "    a= ball_by_ball.loc[(ball_by_ball.MatcH_id==int(ok[0]))&(ball_by_ball.Innings_No==int(ok[1]))&(ball_by_ball.Over_id==int(ok[2])),'MatchDateSK']\n",
    "    return(max(a))"
   ]
  },
  {
   "cell_type": "code",
   "execution_count": 23,
   "metadata": {},
   "outputs": [],
   "source": [
    "data['matchdatesk']=data.id.apply(lambda x:MatchDateSK(x))"
   ]
  },
  {
   "cell_type": "code",
   "execution_count": 24,
   "metadata": {},
   "outputs": [],
   "source": [
    "def BattingTeamSK(x):\n",
    "    ok=x.split(\",\")\n",
    "    a= ball_by_ball.loc[(ball_by_ball.MatcH_id==int(ok[0]))&(ball_by_ball.Innings_No==int(ok[1]))&(ball_by_ball.Over_id==int(ok[2])),'BattingTeam_SK']\n",
    "    return(max(a))"
   ]
  },
  {
   "cell_type": "code",
   "execution_count": 25,
   "metadata": {},
   "outputs": [],
   "source": [
    "def BowlingTeamSK(x):\n",
    "    ok=x.split(\",\")\n",
    "    a= ball_by_ball.loc[(ball_by_ball.MatcH_id==int(ok[0]))&(ball_by_ball.Innings_No==int(ok[1]))&(ball_by_ball.Over_id==int(ok[2])),'BowlingTeam_SK']\n",
    "    return(max(a))"
   ]
  },
  {
   "cell_type": "code",
   "execution_count": 26,
   "metadata": {},
   "outputs": [],
   "source": [
    "data['bowlingteamsk']=data.id.apply(lambda x:BowlingTeamSK(x))"
   ]
  },
  {
   "cell_type": "code",
   "execution_count": 27,
   "metadata": {},
   "outputs": [],
   "source": [
    "data['battingteamsk']=data.id.apply(lambda x:BattingTeamSK(x))"
   ]
  },
  {
   "cell_type": "code",
   "execution_count": 28,
   "metadata": {},
   "outputs": [],
   "source": [
    "def MatchDate(x):\n",
    "    ok=x.split(\",\")\n",
    "    a= ball_by_ball.loc[(ball_by_ball.MatcH_id==int(ok[0]))&(ball_by_ball.Innings_No==int(ok[1]))&(ball_by_ball.Over_id==int(ok[2])),'Match_Date']\n",
    "    return(max(a))"
   ]
  },
  {
   "cell_type": "code",
   "execution_count": null,
   "metadata": {},
   "outputs": [],
   "source": [
    "data[\"matchdate\"]=data.id.apply(lambda x:MatchDate(x))\n",
    "data['total_runs']=data['Runs_Scored']+data['Extra_runs']\n",
    "data['high_runs']=data['total_runs']>=12"
   ]
  },
  {
   "cell_type": "code",
   "execution_count": null,
   "metadata": {},
   "outputs": [],
   "source": [
    "bat_skill = data.groupby(['Striker', 'high_runs'])['Striker'].count().unstack('high_runs').fillna(0)\n",
    "bat_skill[\"sum\"]=bat_skill[True]+bat_skill[False]\n",
    "bat_skill['Striker'] = bat_skill.index\n",
    "dict=bat_skill.to_dict()\n",
    "def bat_skill(x):\n",
    "    return dict[True][x]\n",
    "data['bat_skill']=data['Striker'].apply(bat_skill)"
   ]
  },
  {
   "cell_type": "code",
   "execution_count": null,
   "metadata": {},
   "outputs": [],
   "source": [
    "def experience(x):\n",
    "    return dict[\"sum\"][x]\n",
    "data['bat_Experience']=data['Striker'].apply(experience)"
   ]
  },
  {
   "cell_type": "code",
   "execution_count": null,
   "metadata": {},
   "outputs": [],
   "source": [
    "# bowl_skill = data.groupby(['Bowler', 'playerout'])['Bowler'].count().unstack('playerout').fillna(0)\n",
    "# #bowl_skill[\"sum\"]=bat_skill[True]+bat_skill[False]\n",
    "# bowl_skill['Bowler'] = bat_skill.index\n",
    "# #dict=bowl_skill.to_dict()\n",
    "# #def bat_skill(x):\n",
    "# #   return dict[True][x]\n",
    "# #data['bat_skill']=data['Striker'].apply(bat_skill)\n",
    "# bowl_skill.loc["
   ]
  },
  {
   "cell_type": "code",
   "execution_count": null,
   "metadata": {},
   "outputs": [],
   "source": [
    "def year(x):\n",
    "    a=x.split(\"/\")\n",
    "    if(a[2]=='2017'):\n",
    "        return 1\n",
    "    else :\n",
    "        return 0\n",
    "data[\"is2017\"]=data.matchdate.apply(lambda x:year(x))\n"
   ]
  },
  {
   "cell_type": "code",
   "execution_count": null,
   "metadata": {},
   "outputs": [],
   "source": [
    "def year1(x):\n",
    "    a=x.split(\"/\")\n",
    "    if(a[2]=='2013'):\n",
    "        return 1\n",
    "    else :\n",
    "        return 0\n",
    "data[\"2013\"]=data.matchdate.apply(lambda x:year1(x))\n",
    "data2013=data[data['2013']==1]\n",
    "data2013srh=data2013[data2013['bowlingteamsk']==10]\n",
    "data2013srhrps=data2013srh[data2013srh['battingteamsk']==9]\n"
   ]
  },
  {
   "cell_type": "code",
   "execution_count": null,
   "metadata": {},
   "outputs": [],
   "source": [
    "def over(x):\n",
    "    tok=x.split(\",\")\n",
    "    return int(tok[2])\n",
    "\n",
    "data[\"over\"]=data.id.apply(lambda x:over(x))"
   ]
  },
  {
   "cell_type": "code",
   "execution_count": null,
   "metadata": {},
   "outputs": [],
   "source": [
    "data.to_csv(\"ProcessedData.csv\")"
   ]
  },
  {
   "cell_type": "code",
   "execution_count": null,
   "metadata": {},
   "outputs": [],
   "source": [
    "from sklearn.utils import shuffle\n",
    "data = shuffle(data)\n"
   ]
  },
  {
   "cell_type": "code",
   "execution_count": null,
   "metadata": {},
   "outputs": [],
   "source": [
    "data.head()"
   ]
  },
  {
   "cell_type": "code",
   "execution_count": null,
   "metadata": {},
   "outputs": [],
   "source": [
    "train=data[data.is2017==0]"
   ]
  },
  {
   "cell_type": "code",
   "execution_count": null,
   "metadata": {},
   "outputs": [],
   "source": [
    "test=data[data.is2017==1]"
   ]
  },
  {
   "cell_type": "code",
   "execution_count": null,
   "metadata": {
    "scrolled": false
   },
   "outputs": [],
   "source": [
    "rpo = pd.DataFrame(data[['over','total_runs']].groupby('over').sum())\n",
    "rpo['over'] = rpo.index\n",
    "rpo.plot(kind=\"bar\",x='over',figsize=(10,5))"
   ]
  },
  {
   "cell_type": "code",
   "execution_count": 53,
   "metadata": {},
   "outputs": [
    {
     "data": {
      "text/plain": [
       "<matplotlib.axes._subplots.AxesSubplot at 0x7f616cd10be0>"
      ]
     },
     "execution_count": 53,
     "metadata": {},
     "output_type": "execute_result"
    },
    {
     "data": {
      "image/png": "[encoded data removed]",
      "text/plain": [
       "<Figure size 720x360 with 1 Axes>"
      ]
     },
     "metadata": {},
     "output_type": "display_data"
    }
   ],
   "source": [
    "sto = pd.DataFrame(data[['strike_position','bat_Experience']].groupby('strike_position').mean())\n",
    "sto['strike_position'] = sto.index\n",
    "sto.plot(kind=\"bar\",x='strike_position',figsize=(10,5))"
   ]
  },
  {
   "cell_type": "code",
   "execution_count": null,
   "metadata": {},
   "outputs": [],
   "source": [
    "test.info()"
   ]
  },
  {
   "cell_type": "code",
   "execution_count": null,
   "metadata": {},
   "outputs": [],
   "source": [
    "num_feats = [\"strike_position\",\"playerout\",\"over\",\"bat_skill\",\"bat_Experience\"\n",
    "            ]\n",
    "# \"distance\" \"contact\"\n",
    "X = train[num_feats]\n",
    "y = train[\"high_runs\"]\n",
    "x_val = test[num_feats]\n",
    "y_val = test['high_runs']"
   ]
  },
  {
   "cell_type": "code",
   "execution_count": null,
   "metadata": {},
   "outputs": [],
   "source": [
    "import xgboost as xgb\n",
    "clf1 = xgb.XGBClassifier(n_jobs=-2)\n",
    "clf1.fit(X, y)"
   ]
  },
  {
   "cell_type": "code",
   "execution_count": null,
   "metadata": {},
   "outputs": [],
   "source": [
    "y_pred = clf1.predict(x_val)\n",
    "accuracy_score(y_val,y_pred)"
   ]
  },
  {
   "cell_type": "code",
   "execution_count": null,
   "metadata": {},
   "outputs": [],
   "source": [
    "import matplotlib.pyplot as plt\n",
    "\n",
    "plt.subplots(figsize=(30,20))\n",
    "plt.title('Feature ranking', fontsize = 18)\n",
    "plt.ylabel('Importance degree', fontsize = 13)\n",
    "# plt.xlabel(\"Features\", fontsize = 14)\n",
    "\n",
    "feature_names = num_feats\n",
    "plt.xticks(range(len(num_feats)), feature_names, fontsize = 15)\n",
    "plt.bar(range(len(clf1.feature_importances_)), clf1.feature_importances_)"
   ]
  },
  {
   "cell_type": "code",
   "execution_count": null,
   "metadata": {},
   "outputs": [],
   "source": []
  }
 ],
 "metadata": {
  "kernelspec": {
   "display_name": "Python 3",
   "language": "python",
   "name": "python3"
  },
  "language_info": {
   "codemirror_mode": {
    "name": "ipython",
    "version": 3
   },
   "file_extension": ".py",
   "mimetype": "text/x-python",
   "name": "python",
   "nbconvert_exporter": "python",
   "pygments_lexer": "ipython3",
   "version": "3.5.2"
  }
 },
 "nbformat": 4,
 "nbformat_minor": 2
}
